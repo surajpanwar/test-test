{
 "cells": [
  {
   "cell_type": "code",
   "execution_count": 6,
   "id": "a0ebdad6",
   "metadata": {},
   "outputs": [],
   "source": [
    "l=[[1,2,3,4],(2,3,4,5,6),(3,4,5,6,7),set([25,4,45,4,4,5,45,45,4,5]),{'k1':\"sudh\",\"k2\":\"ineuron\",\"k3\":\"kumar\",3:6,7:8},[\"ineuron\",\"data science\"]]"
   ]
  },
  {
   "cell_type": "code",
   "execution_count": 4,
   "id": "4b6a79ae",
   "metadata": {},
   "outputs": [],
   "source": [
    "l1=[1,2,2,2,2,3,4,4,4,5,5,6]"
   ]
  },
  {
   "cell_type": "code",
   "execution_count": 5,
   "id": "fa62b867",
   "metadata": {},
   "outputs": [
    {
     "name": "stdout",
     "output_type": "stream",
     "text": [
      "[1, 2, 3, 4, 5, 6]\n"
     ]
    }
   ],
   "source": [
    "l1=[1,2,2,3,1,4,5,1,2,6]\n",
    "e=[]\n",
    "for i in l1:\n",
    "    if i not in e:\n",
    "        e.append(i)\n",
    "print(list(e))"
   ]
  },
  {
   "cell_type": "code",
   "execution_count": 7,
   "id": "4e8b99f5",
   "metadata": {},
   "outputs": [],
   "source": [
    "## remove duplicates without using set"
   ]
  },
  {
   "cell_type": "code",
   "execution_count": 10,
   "id": "815daa44",
   "metadata": {},
   "outputs": [
    {
     "name": "stdout",
     "output_type": "stream",
     "text": [
      "ineuron \n",
      "\n",
      "ineuron ineuron \n",
      "\n",
      "ineuron ineuron ineuron \n",
      "\n",
      "ineuron ineuron ineuron ineuron \n",
      "\n",
      "\n"
     ]
    }
   ],
   "source": [
    "s=\"ineuron\"\n",
    "for i in range(4):\n",
    "    for j in range(0,i+1):\n",
    "        print(\"ineuron\", end=\" \" )\n",
    "    print(\"\\n\")\n",
    "print()\n",
    "\n",
    "#### Right angled triangle pattern ####"
   ]
  },
  {
   "cell_type": "code",
   "execution_count": 24,
   "id": "5ef17750",
   "metadata": {},
   "outputs": [
    {
     "name": "stdout",
     "output_type": "stream",
     "text": [
      "        ineuron \n",
      "        ineuron         ineuron         ineuron \n",
      "        ineuron         ineuron         ineuron         ineuron         ineuron \n",
      "        ineuron         ineuron         ineuron \n",
      "        ineuron \n"
     ]
    }
   ],
   "source": [
    "for x in range(0,5,2):\n",
    "    for z in range(x+1):\n",
    "        print(\" \"*len(\"ineuron\"),end=\" \")\n",
    "        print('ineuron',end=\" \")\n",
    "    print()\n",
    "for x in range(3,0,-2):\n",
    "    for z in range(x):\n",
    "        print(\" \"*len(\"ineuron\"),end=\" \")\n",
    "        print('ineuron',end=\" \")\n",
    "    print()"
   ]
  },
  {
   "cell_type": "code",
   "execution_count": 25,
   "id": "554fbe19",
   "metadata": {},
   "outputs": [],
   "source": [
    "### Try to extract all list entities ####"
   ]
  },
  {
   "cell_type": "code",
   "execution_count": 26,
   "id": "5cb0236f",
   "metadata": {},
   "outputs": [
    {
     "data": {
      "text/plain": [
       "[[1, 2, 3, 4],\n",
       " (2, 3, 4, 5, 6),\n",
       " (3, 4, 5, 6, 7),\n",
       " {4, 5, 25, 45},\n",
       " {'k1': 'sudh', 'k2': 'ineuron', 'k3': 'kumar', 3: 6, 7: 8},\n",
       " ['ineuron', 'data science']]"
      ]
     },
     "execution_count": 26,
     "metadata": {},
     "output_type": "execute_result"
    }
   ],
   "source": [
    "l"
   ]
  },
  {
   "cell_type": "code",
   "execution_count": 30,
   "id": "dfbfec24",
   "metadata": {},
   "outputs": [],
   "source": [
    "new_list=[]\n",
    "for i in l:\n",
    "    if type(i)==list:\n",
    "        new_list.append(i)\n",
    "        "
   ]
  },
  {
   "cell_type": "code",
   "execution_count": 31,
   "id": "5c97569d",
   "metadata": {},
   "outputs": [
    {
     "data": {
      "text/plain": [
       "[[1, 2, 3, 4], ['ineuron', 'data science']]"
      ]
     },
     "execution_count": 31,
     "metadata": {},
     "output_type": "execute_result"
    }
   ],
   "source": [
    "new_list"
   ]
  },
  {
   "cell_type": "code",
   "execution_count": 32,
   "id": "46c43d2f",
   "metadata": {},
   "outputs": [],
   "source": [
    "####  Extract all dict entities ###"
   ]
  },
  {
   "cell_type": "code",
   "execution_count": 41,
   "id": "3aef3f30",
   "metadata": {},
   "outputs": [],
   "source": [
    "new_dict={}"
   ]
  },
  {
   "cell_type": "code",
   "execution_count": 42,
   "id": "722f063b",
   "metadata": {},
   "outputs": [
    {
     "data": {
      "text/plain": [
       "{}"
      ]
     },
     "execution_count": 42,
     "metadata": {},
     "output_type": "execute_result"
    }
   ],
   "source": [
    "new_dict"
   ]
  },
  {
   "cell_type": "code",
   "execution_count": 35,
   "id": "dff07137",
   "metadata": {},
   "outputs": [
    {
     "data": {
      "text/plain": [
       "dict"
      ]
     },
     "execution_count": 35,
     "metadata": {},
     "output_type": "execute_result"
    }
   ],
   "source": [
    "type(new_dict)"
   ]
  },
  {
   "cell_type": "code",
   "execution_count": 39,
   "id": "5e7234d8",
   "metadata": {},
   "outputs": [],
   "source": [
    "for j in l:\n",
    "    if type(j)==dict:\n",
    "        new_dict.update(j)"
   ]
  },
  {
   "cell_type": "code",
   "execution_count": 40,
   "id": "bd5bce86",
   "metadata": {},
   "outputs": [
    {
     "data": {
      "text/plain": [
       "{'k1': 'sudh', 'k2': 'ineuron', 'k3': 'kumar', 3: 6, 7: 8}"
      ]
     },
     "execution_count": 40,
     "metadata": {},
     "output_type": "execute_result"
    }
   ],
   "source": [
    "new_dict"
   ]
  },
  {
   "cell_type": "code",
   "execution_count": 45,
   "id": "b8aa135f",
   "metadata": {},
   "outputs": [
    {
     "name": "stdout",
     "output_type": "stream",
     "text": [
      "(2, 3, 4, 5, 6)\n",
      "(3, 4, 5, 6, 7)\n"
     ]
    }
   ],
   "source": [
    "## Extract all tuple entities ####\n",
    "\n",
    "new_tuple=()\n",
    "for k in l:\n",
    "    if type(k)==tuple:\n",
    "        print(k)\n",
    "    \n"
   ]
  },
  {
   "cell_type": "code",
   "execution_count": 46,
   "id": "cb0a1513",
   "metadata": {},
   "outputs": [
    {
     "data": {
      "text/plain": [
       "[[1, 2, 3, 4],\n",
       " (2, 3, 4, 5, 6),\n",
       " (3, 4, 5, 6, 7),\n",
       " {4, 5, 25, 45},\n",
       " {'k1': 'sudh', 'k2': 'ineuron', 'k3': 'kumar', 3: 6, 7: 8},\n",
       " ['ineuron', 'data science']]"
      ]
     },
     "execution_count": 46,
     "metadata": {},
     "output_type": "execute_result"
    }
   ],
   "source": [
    "l"
   ]
  },
  {
   "cell_type": "code",
   "execution_count": 62,
   "id": "04674964",
   "metadata": {},
   "outputs": [
    {
     "name": "stdout",
     "output_type": "stream",
     "text": [
      "1\n",
      "2\n",
      "3\n",
      "4\n",
      "2\n",
      "3\n",
      "4\n",
      "5\n",
      "6\n",
      "3\n",
      "4\n",
      "5\n",
      "6\n",
      "7\n",
      "25\n",
      "5\n",
      "4\n",
      "45\n",
      "3\n",
      "7\n"
     ]
    }
   ],
   "source": [
    "## Extract all numerical entities ##\n",
    "\n",
    "for i in l:\n",
    "    if type(i)==tuple or type(i)== list or type(i)==dict or type(i)==set:\n",
    "        for j in i:\n",
    "            if type(j)==int:\n",
    "                print(j)\n",
    "                "
   ]
  },
  {
   "cell_type": "code",
   "execution_count": 63,
   "id": "0969fc18",
   "metadata": {},
   "outputs": [],
   "source": [
    "## Summation of all data ##"
   ]
  },
  {
   "cell_type": "code",
   "execution_count": 66,
   "id": "b7843b42",
   "metadata": {},
   "outputs": [
    {
     "name": "stdout",
     "output_type": "stream",
     "text": [
      "144\n"
     ]
    }
   ],
   "source": [
    "\n",
    "sum=0;\n",
    "for i in l:\n",
    "    if type(i)==tuple or type(i)== list or type(i)==dict or type(i)==set:\n",
    "        for j in i:\n",
    "            if type(j)==int:\n",
    "                sum =sum+j\n",
    "print(sum)"
   ]
  },
  {
   "cell_type": "code",
   "execution_count": 67,
   "id": "3285fef6",
   "metadata": {},
   "outputs": [],
   "source": [
    "## Seperated odd values from list ##"
   ]
  },
  {
   "cell_type": "code",
   "execution_count": 80,
   "id": "cb85cb63",
   "metadata": {},
   "outputs": [
    {
     "name": "stdout",
     "output_type": "stream",
     "text": [
      "1\n",
      "3\n"
     ]
    }
   ],
   "source": [
    "\n",
    "for i in l:\n",
    "    if type(i)== list:\n",
    "        for j in i:\n",
    "            if type(j)==int:\n",
    "                if j%2!=0:\n",
    "                    print(j)"
   ]
  },
  {
   "cell_type": "code",
   "execution_count": 90,
   "id": "45b36edc",
   "metadata": {},
   "outputs": [
    {
     "name": "stdout",
     "output_type": "stream",
     "text": [
      "ineuron\n"
     ]
    }
   ],
   "source": [
    "\n",
    "for i in l:\n",
    "    if type(i)==tuple or type(i)== list or type(i)==dict or type(i)==set:\n",
    "        for j in i:\n",
    "            if j==\"ineuron\":\n",
    "                print(j)\n"
   ]
  },
  {
   "cell_type": "code",
   "execution_count": 88,
   "id": "86c5a1e5",
   "metadata": {},
   "outputs": [
    {
     "data": {
      "text/plain": [
       "[[1, 2, 3, 4],\n",
       " (2, 3, 4, 5, 6),\n",
       " (3, 4, 5, 6, 7),\n",
       " {4, 5, 25, 45},\n",
       " {'k1': 'sudh', 'k2': 'ineuron', 'k3': 'kumar', 3: 6, 7: 8},\n",
       " ['ineuron', 'data science']]"
      ]
     },
     "execution_count": 88,
     "metadata": {},
     "output_type": "execute_result"
    }
   ],
   "source": [
    "## Count the occurence of elemnets ###"
   ]
  },
  {
   "cell_type": "code",
   "execution_count": 107,
   "id": "7f647080",
   "metadata": {},
   "outputs": [
    {
     "name": "stdout",
     "output_type": "stream",
     "text": [
      "1 1\n",
      "2 1\n",
      "3 1\n",
      "4 1\n",
      "2 2\n",
      "3 2\n",
      "4 2\n",
      "5 1\n",
      "6 1\n",
      "3 3\n",
      "4 3\n",
      "5 2\n",
      "6 2\n",
      "7 1\n",
      "k1 1\n",
      "k2 1\n",
      "k3 1\n",
      "3 4\n",
      "7 2\n",
      "ineuron 1\n",
      "data science 1\n"
     ]
    }
   ],
   "source": [
    "\n",
    "\n",
    "new_list=[]\n",
    "for i in l:\n",
    "    if type(i)==tuple or type(i)== list or type(i)==dict or type(i)==set:\n",
    "        for j in i:\n",
    "            new_list.append(j)\n",
    "            print(j,new_list.count(j))\n",
    "           "
   ]
  },
  {
   "cell_type": "code",
   "execution_count": 115,
   "id": "949d2435",
   "metadata": {},
   "outputs": [
    {
     "name": "stdout",
     "output_type": "stream",
     "text": [
      "k1\n",
      "k2\n",
      "k3\n",
      "3\n",
      "7\n"
     ]
    }
   ],
   "source": [
    "##  Filter out keys from dict element ##\n",
    "for i in l:\n",
    "    if type(i)==dict:\n",
    "        for j in i:\n",
    "            print(j) "
   ]
  },
  {
   "cell_type": "code",
   "execution_count": 120,
   "id": "f89ce836",
   "metadata": {},
   "outputs": [
    {
     "name": "stdout",
     "output_type": "stream",
     "text": [
      "{'k1': 'sudh', 'k2': 'ineuron', 'k3': 'kumar', 3: 6, 7: 8}\n",
      "{'k1': 'sudh', 'k2': 'ineuron', 'k3': 'kumar', 3: 6, 7: 8}\n",
      "{'k1': 'sudh', 'k2': 'ineuron', 'k3': 'kumar', 3: 6, 7: 8}\n",
      "['ineuron', 'data science']\n",
      "['ineuron', 'data science']\n"
     ]
    }
   ],
   "source": [
    "## Extract String Elements ##\n",
    "\n",
    "for i in l:\n",
    "     if type(i)==tuple or type(i)== list or type(i)==dict or type(i)==set:\n",
    "        for j in i:\n",
    "            if type(j)==str:\n",
    "                 print(i)\n",
    "        "
   ]
  },
  {
   "cell_type": "code",
   "execution_count": 127,
   "id": "4e34ab68",
   "metadata": {},
   "outputs": [
    {
     "name": "stdout",
     "output_type": "stream",
     "text": [
      "k1\n",
      "k2\n",
      "k3\n",
      "ineuron\n"
     ]
    }
   ],
   "source": [
    "## Extract Alphanum Elements ##\n",
    "\n",
    "for i in l:\n",
    "     if type(i)==tuple or type(i)== list or type(i)==dict or type(i)==set:\n",
    "        for j in i:\n",
    "            if type(j)==str:\n",
    "                 if j.isalnum():\n",
    "                        print(j)"
   ]
  },
  {
   "cell_type": "code",
   "execution_count": 128,
   "id": "2e0ea532",
   "metadata": {},
   "outputs": [
    {
     "name": "stdout",
     "output_type": "stream",
     "text": [
      "288\n"
     ]
    }
   ],
   "source": [
    "## Multiplication of all entities Numeric ###\n",
    "mult=1;\n",
    "for i in l:\n",
    "    if type(i)==tuple or type(i)== list or type(i)==dict or type(i)==set:\n",
    "        for j in i:\n",
    "            if type(j)==int:\n",
    "                mult =mult*j\n",
    "print(sum)"
   ]
  },
  {
   "cell_type": "code",
   "execution_count": 129,
   "id": "4186bca1",
   "metadata": {},
   "outputs": [],
   "source": [
    "## Unwrap all data and create a flat list ###\n",
    "\n",
    "new_list=[]\n",
    "for i in l:\n",
    "    if type(i)==tuple or type(i)== list or type(i)==dict or type(i)==set:\n",
    "        for j in i:\n",
    "            new_list.append(j)"
   ]
  },
  {
   "cell_type": "code",
   "execution_count": 130,
   "id": "3c80ae5a",
   "metadata": {},
   "outputs": [
    {
     "data": {
      "text/plain": [
       "[1,\n",
       " 2,\n",
       " 3,\n",
       " 4,\n",
       " 2,\n",
       " 3,\n",
       " 4,\n",
       " 5,\n",
       " 6,\n",
       " 3,\n",
       " 4,\n",
       " 5,\n",
       " 6,\n",
       " 7,\n",
       " 'k1',\n",
       " 'k2',\n",
       " 'k3',\n",
       " 3,\n",
       " 7,\n",
       " 'ineuron',\n",
       " 'data science']"
      ]
     },
     "execution_count": 130,
     "metadata": {},
     "output_type": "execute_result"
    }
   ],
   "source": [
    "new_list"
   ]
  },
  {
   "cell_type": "code",
   "execution_count": null,
   "id": "f6b6797e",
   "metadata": {},
   "outputs": [],
   "source": []
  }
 ],
 "metadata": {
  "kernelspec": {
   "display_name": "Python 3 (ipykernel)",
   "language": "python",
   "name": "python3"
  },
  "language_info": {
   "codemirror_mode": {
    "name": "ipython",
    "version": 3
   },
   "file_extension": ".py",
   "mimetype": "text/x-python",
   "name": "python",
   "nbconvert_exporter": "python",
   "pygments_lexer": "ipython3",
   "version": "3.9.7"
  }
 },
 "nbformat": 4,
 "nbformat_minor": 5
}
