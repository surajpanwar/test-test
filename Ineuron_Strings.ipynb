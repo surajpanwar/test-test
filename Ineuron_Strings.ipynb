{
 "cells": [
  {
   "cell_type": "code",
   "execution_count": 9,
   "id": "c90ca13a",
   "metadata": {},
   "outputs": [
    {
     "name": "stdout",
     "output_type": "stream",
     "text": [
      "Hello\n"
     ]
    }
   ],
   "source": [
    "m = \"Hello\"\n",
    "print(m)"
   ]
  },
  {
   "cell_type": "code",
   "execution_count": 10,
   "id": "a3b6b901",
   "metadata": {},
   "outputs": [
    {
     "name": "stdout",
     "output_type": "stream",
     "text": [
      "Hello my name is Suraj\n"
     ]
    }
   ],
   "source": [
    "m=\"Hello my name is Suraj\"\n",
    "print(m)"
   ]
  },
  {
   "cell_type": "code",
   "execution_count": 11,
   "id": "40903efb",
   "metadata": {},
   "outputs": [
    {
     "data": {
      "text/plain": [
       "'Hell'"
      ]
     },
     "execution_count": 11,
     "metadata": {},
     "output_type": "execute_result"
    }
   ],
   "source": [
    "m[0:4]"
   ]
  },
  {
   "cell_type": "code",
   "execution_count": 12,
   "id": "2f5b4d09",
   "metadata": {},
   "outputs": [
    {
     "data": {
      "text/plain": [
       "'a'"
      ]
     },
     "execution_count": 12,
     "metadata": {},
     "output_type": "execute_result"
    }
   ],
   "source": [
    "m[-2]"
   ]
  },
  {
   "cell_type": "code",
   "execution_count": 19,
   "id": "abc321ef",
   "metadata": {},
   "outputs": [
    {
     "data": {
      "text/plain": [
       "''"
      ]
     },
     "execution_count": 19,
     "metadata": {},
     "output_type": "execute_result"
    }
   ],
   "source": [
    "m[0:8:-1]  "
   ]
  },
  {
   "cell_type": "markdown",
   "id": "ae23b931",
   "metadata": {},
   "source": [
    "\"\"\"Contradiction in the sentencnce as we are moving in forward direction but jumping in backward direction So Output will be empty\"\"\""
   ]
  },
  {
   "cell_type": "code",
   "execution_count": 14,
   "id": "4b7f4de8",
   "metadata": {},
   "outputs": [
    {
     "data": {
      "text/plain": [
       "'Hello my'"
      ]
     },
     "execution_count": 14,
     "metadata": {},
     "output_type": "execute_result"
    }
   ],
   "source": [
    "m[0:8:1]"
   ]
  },
  {
   "cell_type": "code",
   "execution_count": 16,
   "id": "7c7c3ece",
   "metadata": {},
   "outputs": [
    {
     "data": {
      "text/plain": [
       "'jaruS s'"
      ]
     },
     "execution_count": 16,
     "metadata": {},
     "output_type": "execute_result"
    }
   ],
   "source": [
    "m[-1:-8:-1]"
   ]
  },
  {
   "cell_type": "code",
   "execution_count": 17,
   "id": "912cb8ec",
   "metadata": {},
   "outputs": [
    {
     "data": {
      "text/plain": [
       "' ym olle'"
      ]
     },
     "execution_count": 17,
     "metadata": {},
     "output_type": "execute_result"
    }
   ],
   "source": [
    "m[8:0:-1]"
   ]
  },
  {
   "cell_type": "code",
   "execution_count": 20,
   "id": "84b2723a",
   "metadata": {},
   "outputs": [
    {
     "data": {
      "text/plain": [
       "'Sudhan'"
      ]
     },
     "execution_count": 20,
     "metadata": {},
     "output_type": "execute_result"
    }
   ],
   "source": [
    "s = \"Sudhanshu\"\n",
    "s[:-3]\n"
   ]
  },
  {
   "cell_type": "code",
   "execution_count": 21,
   "id": "c77a2b17",
   "metadata": {},
   "outputs": [
    {
     "data": {
      "text/plain": [
       "'hu'"
      ]
     },
     "execution_count": 21,
     "metadata": {},
     "output_type": "execute_result"
    }
   ],
   "source": [
    "s[-2:]"
   ]
  },
  {
   "cell_type": "code",
   "execution_count": 22,
   "id": "c0f9f6ea",
   "metadata": {},
   "outputs": [
    {
     "data": {
      "text/plain": [
       "'Sudhanshu'"
      ]
     },
     "execution_count": 22,
     "metadata": {},
     "output_type": "execute_result"
    }
   ],
   "source": [
    "s[::1]"
   ]
  },
  {
   "cell_type": "code",
   "execution_count": 23,
   "id": "a5001349",
   "metadata": {},
   "outputs": [
    {
     "data": {
      "text/plain": [
       "'Sudhanshu'"
      ]
     },
     "execution_count": 23,
     "metadata": {},
     "output_type": "execute_result"
    }
   ],
   "source": [
    "s[0:50:1]"
   ]
  },
  {
   "cell_type": "code",
   "execution_count": 24,
   "id": "e7fa3a85",
   "metadata": {},
   "outputs": [
    {
     "data": {
      "text/plain": [
       "'uhsnahduS'"
      ]
     },
     "execution_count": 24,
     "metadata": {},
     "output_type": "execute_result"
    }
   ],
   "source": [
    "s[::-1]"
   ]
  },
  {
   "cell_type": "code",
   "execution_count": 26,
   "id": "0c3890e4",
   "metadata": {},
   "outputs": [
    {
     "data": {
      "text/plain": [
       "'Sudhanshu'"
      ]
     },
     "execution_count": 26,
     "metadata": {},
     "output_type": "execute_result"
    }
   ],
   "source": [
    "s"
   ]
  },
  {
   "cell_type": "code",
   "execution_count": 27,
   "id": "dfb1ef58",
   "metadata": {},
   "outputs": [
    {
     "data": {
      "text/plain": [
       "'uhsnahduS'"
      ]
     },
     "execution_count": 27,
     "metadata": {},
     "output_type": "execute_result"
    }
   ],
   "source": [
    "s[::-1]"
   ]
  },
  {
   "cell_type": "code",
   "execution_count": 28,
   "id": "0da75241",
   "metadata": {},
   "outputs": [
    {
     "data": {
      "text/plain": [
       "'uhsnahdu'"
      ]
     },
     "execution_count": 28,
     "metadata": {},
     "output_type": "execute_result"
    }
   ],
   "source": [
    "s[8:0:-1]"
   ]
  },
  {
   "cell_type": "code",
   "execution_count": 29,
   "id": "8e41380f",
   "metadata": {},
   "outputs": [],
   "source": [
    "s1='ineuron'"
   ]
  },
  {
   "cell_type": "code",
   "execution_count": 30,
   "id": "0a433f38",
   "metadata": {},
   "outputs": [
    {
     "data": {
      "text/plain": [
       "'ineuron'"
      ]
     },
     "execution_count": 30,
     "metadata": {},
     "output_type": "execute_result"
    }
   ],
   "source": [
    "s1"
   ]
  },
  {
   "cell_type": "code",
   "execution_count": 32,
   "id": "1743b6c6",
   "metadata": {},
   "outputs": [
    {
     "data": {
      "text/plain": [
       "'norueni'"
      ]
     },
     "execution_count": 32,
     "metadata": {},
     "output_type": "execute_result"
    }
   ],
   "source": [
    "s1[::-1]"
   ]
  },
  {
   "cell_type": "code",
   "execution_count": 33,
   "id": "847f7fbd",
   "metadata": {},
   "outputs": [
    {
     "data": {
      "text/plain": [
       "''"
      ]
     },
     "execution_count": 33,
     "metadata": {},
     "output_type": "execute_result"
    }
   ],
   "source": [
    "s1[-2:-7:1]"
   ]
  },
  {
   "cell_type": "raw",
   "id": "46f5e3e2",
   "metadata": {},
   "source": [
    "Contradiction here"
   ]
  },
  {
   "cell_type": "code",
   "execution_count": 35,
   "id": "d888f505",
   "metadata": {},
   "outputs": [
    {
     "data": {
      "text/plain": [
       "'ineur'"
      ]
     },
     "execution_count": 35,
     "metadata": {},
     "output_type": "execute_result"
    }
   ],
   "source": [
    "s1[-7:-2:1]"
   ]
  },
  {
   "cell_type": "raw",
   "id": "6086b73a",
   "metadata": {},
   "source": [
    "No contradiction here so we got output"
   ]
  },
  {
   "cell_type": "code",
   "execution_count": 36,
   "id": "a7925d88",
   "metadata": {},
   "outputs": [
    {
     "data": {
      "text/plain": [
       "''"
      ]
     },
     "execution_count": 36,
     "metadata": {},
     "output_type": "execute_result"
    }
   ],
   "source": [
    "s1[5:0]"
   ]
  },
  {
   "cell_type": "markdown",
   "id": "f57d183e",
   "metadata": {},
   "source": [
    "CONTRADICTION HERE"
   ]
  },
  {
   "cell_type": "code",
   "execution_count": 37,
   "id": "4dd3b1ba",
   "metadata": {},
   "outputs": [
    {
     "data": {
      "text/plain": [
       "''"
      ]
     },
     "execution_count": 37,
     "metadata": {},
     "output_type": "execute_result"
    }
   ],
   "source": [
    "s1[:-1:-1]"
   ]
  },
  {
   "cell_type": "code",
   "execution_count": 38,
   "id": "9755dc21",
   "metadata": {},
   "outputs": [
    {
     "ename": "TypeError",
     "evalue": "can only concatenate str (not \"int\") to str",
     "output_type": "error",
     "traceback": [
      "\u001b[1;31m---------------------------------------------------------------------------\u001b[0m",
      "\u001b[1;31mTypeError\u001b[0m                                 Traceback (most recent call last)",
      "\u001b[1;32m~\\AppData\\Local\\Temp/ipykernel_9044/4256404775.py\u001b[0m in \u001b[0;36m<module>\u001b[1;34m\u001b[0m\n\u001b[1;32m----> 1\u001b[1;33m \u001b[0ms1\u001b[0m\u001b[1;33m+\u001b[0m\u001b[1;36m1\u001b[0m\u001b[1;33m\u001b[0m\u001b[1;33m\u001b[0m\u001b[0m\n\u001b[0m",
      "\u001b[1;31mTypeError\u001b[0m: can only concatenate str (not \"int\") to str"
     ]
    }
   ],
   "source": [
    "s1+1"
   ]
  },
  {
   "cell_type": "code",
   "execution_count": 39,
   "id": "ec75ce66",
   "metadata": {},
   "outputs": [
    {
     "data": {
      "text/plain": [
       "'ineuron1'"
      ]
     },
     "execution_count": 39,
     "metadata": {},
     "output_type": "execute_result"
    }
   ],
   "source": [
    "s1+'1'"
   ]
  },
  {
   "cell_type": "code",
   "execution_count": 40,
   "id": "0085c32f",
   "metadata": {},
   "outputs": [
    {
     "data": {
      "text/plain": [
       "'Sudhanshu1'"
      ]
     },
     "execution_count": 40,
     "metadata": {},
     "output_type": "execute_result"
    }
   ],
   "source": [
    "s+str(1)"
   ]
  },
  {
   "cell_type": "code",
   "execution_count": 41,
   "id": "9a4e2ce1",
   "metadata": {},
   "outputs": [
    {
     "data": {
      "text/plain": [
       "'ineuron1'"
      ]
     },
     "execution_count": 41,
     "metadata": {},
     "output_type": "execute_result"
    }
   ],
   "source": [
    "s1+str(1)"
   ]
  },
  {
   "cell_type": "code",
   "execution_count": 42,
   "id": "e93c16a7",
   "metadata": {},
   "outputs": [
    {
     "ename": "ValueError",
     "evalue": "invalid literal for int() with base 10: 'ineuron'",
     "output_type": "error",
     "traceback": [
      "\u001b[1;31m---------------------------------------------------------------------------\u001b[0m",
      "\u001b[1;31mValueError\u001b[0m                                Traceback (most recent call last)",
      "\u001b[1;32m~\\AppData\\Local\\Temp/ipykernel_9044/3556716075.py\u001b[0m in \u001b[0;36m<module>\u001b[1;34m\u001b[0m\n\u001b[1;32m----> 1\u001b[1;33m \u001b[0mint\u001b[0m\u001b[1;33m(\u001b[0m\u001b[0ms1\u001b[0m\u001b[1;33m)\u001b[0m\u001b[1;33m+\u001b[0m\u001b[1;36m1\u001b[0m\u001b[1;33m\u001b[0m\u001b[1;33m\u001b[0m\u001b[0m\n\u001b[0m",
      "\u001b[1;31mValueError\u001b[0m: invalid literal for int() with base 10: 'ineuron'"
     ]
    }
   ],
   "source": [
    "int(s1)+1"
   ]
  },
  {
   "cell_type": "code",
   "execution_count": 43,
   "id": "773e2b06",
   "metadata": {},
   "outputs": [
    {
     "data": {
      "text/plain": [
       "7"
      ]
     },
     "execution_count": 43,
     "metadata": {},
     "output_type": "execute_result"
    }
   ],
   "source": [
    "len(s1)"
   ]
  },
  {
   "cell_type": "code",
   "execution_count": 44,
   "id": "f89bd046",
   "metadata": {},
   "outputs": [
    {
     "data": {
      "text/plain": [
       "9"
      ]
     },
     "execution_count": 44,
     "metadata": {},
     "output_type": "execute_result"
    }
   ],
   "source": [
    "len(s)"
   ]
  },
  {
   "cell_type": "code",
   "execution_count": 45,
   "id": "08b7be93",
   "metadata": {},
   "outputs": [
    {
     "data": {
      "text/plain": [
       "'SudhanshuSudhanshuSudhanshuSudhanshu'"
      ]
     },
     "execution_count": 45,
     "metadata": {},
     "output_type": "execute_result"
    }
   ],
   "source": [
    "s*4"
   ]
  },
  {
   "cell_type": "code",
   "execution_count": 50,
   "id": "f49c41e9",
   "metadata": {},
   "outputs": [
    {
     "data": {
      "text/plain": [
       "2"
      ]
     },
     "execution_count": 50,
     "metadata": {},
     "output_type": "execute_result"
    }
   ],
   "source": [
    "s.count('u')"
   ]
  },
  {
   "cell_type": "code",
   "execution_count": 51,
   "id": "c02a0c55",
   "metadata": {},
   "outputs": [
    {
     "data": {
      "text/plain": [
       "'Sudhanshu'"
      ]
     },
     "execution_count": 51,
     "metadata": {},
     "output_type": "execute_result"
    }
   ],
   "source": [
    "s"
   ]
  },
  {
   "cell_type": "code",
   "execution_count": 52,
   "id": "5e2d0ce3",
   "metadata": {},
   "outputs": [
    {
     "data": {
      "text/plain": [
       "1"
      ]
     },
     "execution_count": 52,
     "metadata": {},
     "output_type": "execute_result"
    }
   ],
   "source": [
    "s.count(s)"
   ]
  },
  {
   "cell_type": "code",
   "execution_count": 53,
   "id": "e9af6c56",
   "metadata": {},
   "outputs": [
    {
     "ename": "TypeError",
     "evalue": "must be str, not builtin_function_or_method",
     "output_type": "error",
     "traceback": [
      "\u001b[1;31m---------------------------------------------------------------------------\u001b[0m",
      "\u001b[1;31mTypeError\u001b[0m                                 Traceback (most recent call last)",
      "\u001b[1;32m~\\AppData\\Local\\Temp/ipykernel_9044/3277685257.py\u001b[0m in \u001b[0;36m<module>\u001b[1;34m\u001b[0m\n\u001b[1;32m----> 1\u001b[1;33m \u001b[0ms\u001b[0m\u001b[1;33m.\u001b[0m\u001b[0mcount\u001b[0m\u001b[1;33m(\u001b[0m\u001b[0msum\u001b[0m\u001b[1;33m)\u001b[0m\u001b[1;33m\u001b[0m\u001b[1;33m\u001b[0m\u001b[0m\n\u001b[0m",
      "\u001b[1;31mTypeError\u001b[0m: must be str, not builtin_function_or_method"
     ]
    }
   ],
   "source": [
    "s.count(sum)"
   ]
  },
  {
   "cell_type": "code",
   "execution_count": 54,
   "id": "b1f4a1b4",
   "metadata": {},
   "outputs": [
    {
     "data": {
      "text/plain": [
       "0"
      ]
     },
     "execution_count": 54,
     "metadata": {},
     "output_type": "execute_result"
    }
   ],
   "source": [
    "s.count('sum')"
   ]
  },
  {
   "cell_type": "code",
   "execution_count": 55,
   "id": "45dabd8b",
   "metadata": {},
   "outputs": [
    {
     "data": {
      "text/plain": [
       "0"
      ]
     },
     "execution_count": 55,
     "metadata": {},
     "output_type": "execute_result"
    }
   ],
   "source": [
    "s.count('su')"
   ]
  },
  {
   "cell_type": "code",
   "execution_count": 56,
   "id": "117d424f",
   "metadata": {},
   "outputs": [
    {
     "data": {
      "text/plain": [
       "'Sudhanshu'"
      ]
     },
     "execution_count": 56,
     "metadata": {},
     "output_type": "execute_result"
    }
   ],
   "source": [
    "s"
   ]
  },
  {
   "cell_type": "code",
   "execution_count": 57,
   "id": "f7d1da3c",
   "metadata": {},
   "outputs": [
    {
     "data": {
      "text/plain": [
       "1"
      ]
     },
     "execution_count": 57,
     "metadata": {},
     "output_type": "execute_result"
    }
   ],
   "source": [
    "s.count('Su')"
   ]
  },
  {
   "cell_type": "code",
   "execution_count": 60,
   "id": "ea22cbd1",
   "metadata": {},
   "outputs": [
    {
     "data": {
      "text/plain": [
       "['S', 'dhansh', '']"
      ]
     },
     "execution_count": 60,
     "metadata": {},
     "output_type": "execute_result"
    }
   ],
   "source": [
    "s.split('u')"
   ]
  },
  {
   "cell_type": "code",
   "execution_count": 61,
   "id": "b0bd99e5",
   "metadata": {},
   "outputs": [
    {
     "ename": "SyntaxError",
     "evalue": "EOL while scanning string literal (Temp/ipykernel_9044/2526127729.py, line 1)",
     "output_type": "error",
     "traceback": [
      "\u001b[1;36m  File \u001b[1;32m\"C:\\Users\\Roshan\\AppData\\Local\\Temp/ipykernel_9044/2526127729.py\"\u001b[1;36m, line \u001b[1;32m1\u001b[0m\n\u001b[1;33m    sw=\"Return a list of the words in the string, using sep as the delimiter string.\u001b[0m\n\u001b[1;37m                                                                                    ^\u001b[0m\n\u001b[1;31mSyntaxError\u001b[0m\u001b[1;31m:\u001b[0m EOL while scanning string literal\n"
     ]
    }
   ],
   "source": [
    "sw=\"Return a list of the words in the string, using sep as the delimiter string.\n",
    "\n",
    "sep\n",
    "  The delimiter according which to split the string.\n",
    "  None (the default value) means split according to any whitespace,\n",
    "  and discard empty strings from the result.\n",
    "maxsplit\n",
    "  Maximum number of splits to do.\n",
    "  -1 (the default value) means no limit.\""
   ]
  },
  {
   "cell_type": "code",
   "execution_count": 62,
   "id": "99b36dd7",
   "metadata": {},
   "outputs": [],
   "source": [
    "sw=\"Return a list of the words in the string, using sep as the delimiter string.\""
   ]
  },
  {
   "cell_type": "code",
   "execution_count": 64,
   "id": "b4e5cf85",
   "metadata": {},
   "outputs": [
    {
     "data": {
      "text/plain": [
       "['Return',\n",
       " 'a',\n",
       " 'list',\n",
       " 'of',\n",
       " 'the',\n",
       " 'words',\n",
       " 'in',\n",
       " 'the',\n",
       " 'string,',\n",
       " 'using',\n",
       " 'sep',\n",
       " 'as',\n",
       " 'the',\n",
       " 'delimiter',\n",
       " 'string.']"
      ]
     },
     "execution_count": 64,
     "metadata": {},
     "output_type": "execute_result"
    }
   ],
   "source": [
    "sw.split(' ')"
   ]
  },
  {
   "cell_type": "code",
   "execution_count": 65,
   "id": "860b2b0e",
   "metadata": {},
   "outputs": [
    {
     "data": {
      "text/plain": [
       "2"
      ]
     },
     "execution_count": 65,
     "metadata": {},
     "output_type": "execute_result"
    }
   ],
   "source": [
    "sw.count('string')"
   ]
  },
  {
   "cell_type": "code",
   "execution_count": 66,
   "id": "3b149ba7",
   "metadata": {},
   "outputs": [],
   "source": [
    "se ='''Return a list of the words in the string, using sep as the delimiter string.\n",
    "\n",
    "sep\n",
    "  The delimiter according which to split the string.\n",
    "  None (the default value) means split according to any whitespace,\n",
    "  and discard empty strings from the result.\n",
    "maxsplit\n",
    "  Maximum number of splits to do.\n",
    "  -1 (the default value) means no limit.'''"
   ]
  },
  {
   "cell_type": "code",
   "execution_count": 67,
   "id": "f8d20853",
   "metadata": {},
   "outputs": [
    {
     "data": {
      "text/plain": [
       "['Return',\n",
       " 'a',\n",
       " 'list',\n",
       " 'of',\n",
       " 'the',\n",
       " 'words',\n",
       " 'in',\n",
       " 'the',\n",
       " 'string,',\n",
       " 'using',\n",
       " 'sep',\n",
       " 'as',\n",
       " 'the',\n",
       " 'delimiter',\n",
       " 'string.\\n\\nsep\\n',\n",
       " '',\n",
       " 'The',\n",
       " 'delimiter',\n",
       " 'according',\n",
       " 'which',\n",
       " 'to',\n",
       " 'split',\n",
       " 'the',\n",
       " 'string.\\n',\n",
       " '',\n",
       " 'None',\n",
       " '(the',\n",
       " 'default',\n",
       " 'value)',\n",
       " 'means',\n",
       " 'split',\n",
       " 'according',\n",
       " 'to',\n",
       " 'any',\n",
       " 'whitespace,\\n',\n",
       " '',\n",
       " 'and',\n",
       " 'discard',\n",
       " 'empty',\n",
       " 'strings',\n",
       " 'from',\n",
       " 'the',\n",
       " 'result.\\nmaxsplit\\n',\n",
       " '',\n",
       " 'Maximum',\n",
       " 'number',\n",
       " 'of',\n",
       " 'splits',\n",
       " 'to',\n",
       " 'do.\\n',\n",
       " '',\n",
       " '-1',\n",
       " '(the',\n",
       " 'default',\n",
       " 'value)',\n",
       " 'means',\n",
       " 'no',\n",
       " 'limit.']"
      ]
     },
     "execution_count": 67,
     "metadata": {},
     "output_type": "execute_result"
    }
   ],
   "source": [
    "se.split(' ')"
   ]
  },
  {
   "cell_type": "code",
   "execution_count": 68,
   "id": "30d7ddf1",
   "metadata": {},
   "outputs": [
    {
     "data": {
      "text/plain": [
       "0"
      ]
     },
     "execution_count": 68,
     "metadata": {},
     "output_type": "execute_result"
    }
   ],
   "source": [
    "s.count('no')"
   ]
  },
  {
   "cell_type": "code",
   "execution_count": 70,
   "id": "92f6082e",
   "metadata": {},
   "outputs": [
    {
     "data": {
      "text/plain": [
       "1"
      ]
     },
     "execution_count": 70,
     "metadata": {},
     "output_type": "execute_result"
    }
   ],
   "source": [
    "se.count(\"no\")"
   ]
  },
  {
   "cell_type": "code",
   "execution_count": 71,
   "id": "a48ed7c6",
   "metadata": {},
   "outputs": [
    {
     "data": {
      "text/plain": [
       "'RETURN A LIST OF THE WORDS IN THE STRING, USING SEP AS THE DELIMITER STRING.\\n\\nSEP\\n  THE DELIMITER ACCORDING WHICH TO SPLIT THE STRING.\\n  NONE (THE DEFAULT VALUE) MEANS SPLIT ACCORDING TO ANY WHITESPACE,\\n  AND DISCARD EMPTY STRINGS FROM THE RESULT.\\nMAXSPLIT\\n  MAXIMUM NUMBER OF SPLITS TO DO.\\n  -1 (THE DEFAULT VALUE) MEANS NO LIMIT.'"
      ]
     },
     "execution_count": 71,
     "metadata": {},
     "output_type": "execute_result"
    }
   ],
   "source": [
    "se.upper()"
   ]
  },
  {
   "cell_type": "code",
   "execution_count": 72,
   "id": "ab4f3348",
   "metadata": {},
   "outputs": [
    {
     "data": {
      "text/plain": [
       "'return a list of the words in the string, using sep as the delimiter string.\\n\\nsep\\n  the delimiter according which to split the string.\\n  none (the default value) means split according to any whitespace,\\n  and discard empty strings from the result.\\nmaxsplit\\n  maximum number of splits to do.\\n  -1 (the default value) means no limit.'"
      ]
     },
     "execution_count": 72,
     "metadata": {},
     "output_type": "execute_result"
    }
   ],
   "source": [
    "se.lower()"
   ]
  },
  {
   "cell_type": "code",
   "execution_count": 73,
   "id": "330e2838",
   "metadata": {},
   "outputs": [],
   "source": [
    "se=se.upper()"
   ]
  },
  {
   "cell_type": "code",
   "execution_count": 74,
   "id": "adfbc214",
   "metadata": {},
   "outputs": [
    {
     "data": {
      "text/plain": [
       "'RETURN A LIST OF THE WORDS IN THE STRING, USING SEP AS THE DELIMITER STRING.\\n\\nSEP\\n  THE DELIMITER ACCORDING WHICH TO SPLIT THE STRING.\\n  NONE (THE DEFAULT VALUE) MEANS SPLIT ACCORDING TO ANY WHITESPACE,\\n  AND DISCARD EMPTY STRINGS FROM THE RESULT.\\nMAXSPLIT\\n  MAXIMUM NUMBER OF SPLITS TO DO.\\n  -1 (THE DEFAULT VALUE) MEANS NO LIMIT.'"
      ]
     },
     "execution_count": 74,
     "metadata": {},
     "output_type": "execute_result"
    }
   ],
   "source": [
    "se"
   ]
  },
  {
   "cell_type": "code",
   "execution_count": 76,
   "id": "a4c6c3b6",
   "metadata": {},
   "outputs": [
    {
     "data": {
      "text/plain": [
       "98"
      ]
     },
     "execution_count": 76,
     "metadata": {},
     "output_type": "execute_result"
    }
   ],
   "source": [
    "se.find(\"ACCORDING\")"
   ]
  },
  {
   "cell_type": "code",
   "execution_count": 77,
   "id": "741199f7",
   "metadata": {},
   "outputs": [],
   "source": [
    "sw=sw.lower()"
   ]
  },
  {
   "cell_type": "code",
   "execution_count": 78,
   "id": "841d9e7b",
   "metadata": {},
   "outputs": [
    {
     "data": {
      "text/plain": [
       "'return a list of the words in the string, using sep as the delimiter string.'"
      ]
     },
     "execution_count": 78,
     "metadata": {},
     "output_type": "execute_result"
    }
   ],
   "source": [
    "sw"
   ]
  },
  {
   "cell_type": "code",
   "execution_count": 79,
   "id": "5463450f",
   "metadata": {},
   "outputs": [],
   "source": [
    "s= \"sudhanshu\""
   ]
  },
  {
   "cell_type": "code",
   "execution_count": 80,
   "id": "b4c7f6a9",
   "metadata": {},
   "outputs": [
    {
     "data": {
      "text/plain": [
       "'Sudhanshu'"
      ]
     },
     "execution_count": 80,
     "metadata": {},
     "output_type": "execute_result"
    }
   ],
   "source": [
    "s.title()"
   ]
  },
  {
   "cell_type": "code",
   "execution_count": 81,
   "id": "b6c86e96",
   "metadata": {},
   "outputs": [
    {
     "data": {
      "text/plain": [
       "'sudhanshu'"
      ]
     },
     "execution_count": 81,
     "metadata": {},
     "output_type": "execute_result"
    }
   ],
   "source": [
    "s"
   ]
  },
  {
   "cell_type": "code",
   "execution_count": 83,
   "id": "c8cd53a1",
   "metadata": {},
   "outputs": [],
   "source": [
    "s=s.title()"
   ]
  },
  {
   "cell_type": "code",
   "execution_count": 84,
   "id": "6ad508c8",
   "metadata": {},
   "outputs": [
    {
     "data": {
      "text/plain": [
       "'Sudhanshu'"
      ]
     },
     "execution_count": 84,
     "metadata": {},
     "output_type": "execute_result"
    }
   ],
   "source": [
    "s"
   ]
  },
  {
   "cell_type": "code",
   "execution_count": 85,
   "id": "76141633",
   "metadata": {},
   "outputs": [],
   "source": [
    "se = se.title()"
   ]
  },
  {
   "cell_type": "code",
   "execution_count": 86,
   "id": "5a6eee54",
   "metadata": {},
   "outputs": [
    {
     "data": {
      "text/plain": [
       "'Return A List Of The Words In The String, Using Sep As The Delimiter String.\\n\\nSep\\n  The Delimiter According Which To Split The String.\\n  None (The Default Value) Means Split According To Any Whitespace,\\n  And Discard Empty Strings From The Result.\\nMaxsplit\\n  Maximum Number Of Splits To Do.\\n  -1 (The Default Value) Means No Limit.'"
      ]
     },
     "execution_count": 86,
     "metadata": {},
     "output_type": "execute_result"
    }
   ],
   "source": [
    "se"
   ]
  },
  {
   "cell_type": "code",
   "execution_count": 87,
   "id": "1cb1bd63",
   "metadata": {},
   "outputs": [],
   "source": [
    "se=se.capitalize()"
   ]
  },
  {
   "cell_type": "code",
   "execution_count": 88,
   "id": "96a80067",
   "metadata": {},
   "outputs": [
    {
     "data": {
      "text/plain": [
       "'Return a list of the words in the string, using sep as the delimiter string.\\n\\nsep\\n  the delimiter according which to split the string.\\n  none (the default value) means split according to any whitespace,\\n  and discard empty strings from the result.\\nmaxsplit\\n  maximum number of splits to do.\\n  -1 (the default value) means no limit.'"
      ]
     },
     "execution_count": 88,
     "metadata": {},
     "output_type": "execute_result"
    }
   ],
   "source": [
    "se"
   ]
  },
  {
   "cell_type": "code",
   "execution_count": 89,
   "id": "6e0dddfc",
   "metadata": {},
   "outputs": [],
   "source": [
    "se=se.title()"
   ]
  },
  {
   "cell_type": "code",
   "execution_count": 90,
   "id": "a78fa46a",
   "metadata": {},
   "outputs": [
    {
     "data": {
      "text/plain": [
       "'Return A List Of The Words In The String, Using Sep As The Delimiter String.\\n\\nSep\\n  The Delimiter According Which To Split The String.\\n  None (The Default Value) Means Split According To Any Whitespace,\\n  And Discard Empty Strings From The Result.\\nMaxsplit\\n  Maximum Number Of Splits To Do.\\n  -1 (The Default Value) Means No Limit.'"
      ]
     },
     "execution_count": 90,
     "metadata": {},
     "output_type": "execute_result"
    }
   ],
   "source": [
    "se"
   ]
  },
  {
   "cell_type": "code",
   "execution_count": 91,
   "id": "47cb67e6",
   "metadata": {},
   "outputs": [],
   "source": [
    "s=\"Suraj panWAR\""
   ]
  },
  {
   "cell_type": "code",
   "execution_count": 92,
   "id": "81e46f2f",
   "metadata": {},
   "outputs": [
    {
     "data": {
      "text/plain": [
       "'sURAJ PANwar'"
      ]
     },
     "execution_count": 92,
     "metadata": {},
     "output_type": "execute_result"
    }
   ],
   "source": [
    "s.swapcase()"
   ]
  },
  {
   "cell_type": "code",
   "execution_count": 93,
   "id": "36e2b969",
   "metadata": {},
   "outputs": [
    {
     "data": {
      "text/plain": [
       "True"
      ]
     },
     "execution_count": 93,
     "metadata": {},
     "output_type": "execute_result"
    }
   ],
   "source": [
    "s.startswith(\"S\")"
   ]
  },
  {
   "cell_type": "code",
   "execution_count": 94,
   "id": "c5011b74",
   "metadata": {},
   "outputs": [
    {
     "data": {
      "text/plain": [
       "<reversed at 0x1fc613b0c40>"
      ]
     },
     "execution_count": 94,
     "metadata": {},
     "output_type": "execute_result"
    }
   ],
   "source": [
    "reversed(s)"
   ]
  },
  {
   "cell_type": "code",
   "execution_count": 95,
   "id": "7747e351",
   "metadata": {},
   "outputs": [
    {
     "data": {
      "text/plain": [
       "'Suraj panWAR'"
      ]
     },
     "execution_count": 95,
     "metadata": {},
     "output_type": "execute_result"
    }
   ],
   "source": [
    "s"
   ]
  },
  {
   "cell_type": "code",
   "execution_count": 96,
   "id": "2d2e74e4",
   "metadata": {},
   "outputs": [
    {
     "name": "stdout",
     "output_type": "stream",
     "text": [
      "<reversed object at 0x000001FC60EF44F0>\n"
     ]
    }
   ],
   "source": [
    "print(reversed(s))"
   ]
  },
  {
   "cell_type": "code",
   "execution_count": 97,
   "id": "610d9ac6",
   "metadata": {},
   "outputs": [
    {
     "data": {
      "text/plain": [
       "'RAWnap jaruS'"
      ]
     },
     "execution_count": 97,
     "metadata": {},
     "output_type": "execute_result"
    }
   ],
   "source": [
    "''.join(reversed(s))"
   ]
  },
  {
   "cell_type": "code",
   "execution_count": 98,
   "id": "78ac33d7",
   "metadata": {},
   "outputs": [
    {
     "data": {
      "text/plain": [
       "'RAWnap jaruS'"
      ]
     },
     "execution_count": 98,
     "metadata": {},
     "output_type": "execute_result"
    }
   ],
   "source": [
    "s[::-1]"
   ]
  },
  {
   "cell_type": "raw",
   "id": "911591d2",
   "metadata": {},
   "source": [
    "TO reverse a String"
   ]
  },
  {
   "cell_type": "code",
   "execution_count": 99,
   "id": "9a3b66d5",
   "metadata": {},
   "outputs": [],
   "source": [
    "s= \"    su    raj   \""
   ]
  },
  {
   "cell_type": "code",
   "execution_count": 100,
   "id": "8a636061",
   "metadata": {},
   "outputs": [
    {
     "data": {
      "text/plain": [
       "'su    raj'"
      ]
     },
     "execution_count": 100,
     "metadata": {},
     "output_type": "execute_result"
    }
   ],
   "source": [
    "s.strip()"
   ]
  },
  {
   "cell_type": "code",
   "execution_count": 101,
   "id": "8d6de8e3",
   "metadata": {},
   "outputs": [
    {
     "data": {
      "text/plain": [
       "'su    raj   '"
      ]
     },
     "execution_count": 101,
     "metadata": {},
     "output_type": "execute_result"
    }
   ],
   "source": [
    "s.lstrip()"
   ]
  },
  {
   "cell_type": "code",
   "execution_count": 102,
   "id": "24d9892e",
   "metadata": {},
   "outputs": [
    {
     "data": {
      "text/plain": [
       "'    su    raj'"
      ]
     },
     "execution_count": 102,
     "metadata": {},
     "output_type": "execute_result"
    }
   ],
   "source": [
    "s.rstrip()"
   ]
  },
  {
   "cell_type": "code",
   "execution_count": 103,
   "id": "3831835e",
   "metadata": {},
   "outputs": [
    {
     "data": {
      "text/plain": [
       "'su    raj'"
      ]
     },
     "execution_count": 103,
     "metadata": {},
     "output_type": "execute_result"
    }
   ],
   "source": [
    "s.strip()"
   ]
  },
  {
   "cell_type": "code",
   "execution_count": 104,
   "id": "323815ba",
   "metadata": {},
   "outputs": [
    {
     "data": {
      "text/plain": [
       "'S u r a j'"
      ]
     },
     "execution_count": 104,
     "metadata": {},
     "output_type": "execute_result"
    }
   ],
   "source": [
    "\"\" .join(\"Suraj\")"
   ]
  },
  {
   "cell_type": "code",
   "execution_count": 105,
   "id": "b8a1f627",
   "metadata": {},
   "outputs": [
    {
     "data": {
      "text/plain": [
       "'Sauaraaaj'"
      ]
     },
     "execution_count": 105,
     "metadata": {},
     "output_type": "execute_result"
    }
   ],
   "source": [
    "\"a\".join(\"Suraj\")"
   ]
  },
  {
   "cell_type": "code",
   "execution_count": 107,
   "id": "3f673721",
   "metadata": {},
   "outputs": [
    {
     "data": {
      "text/plain": [
       "'##    su    raj   ##'"
      ]
     },
     "execution_count": 107,
     "metadata": {},
     "output_type": "execute_result"
    }
   ],
   "source": [
    "s.center(20,'#')"
   ]
  },
  {
   "cell_type": "code",
   "execution_count": 108,
   "id": "2ff93e51",
   "metadata": {},
   "outputs": [
    {
     "data": {
      "text/plain": [
       "False"
      ]
     },
     "execution_count": 108,
     "metadata": {},
     "output_type": "execute_result"
    }
   ],
   "source": [
    "s.isdigit()"
   ]
  },
  {
   "cell_type": "code",
   "execution_count": 109,
   "id": "cd3f5500",
   "metadata": {},
   "outputs": [
    {
     "data": {
      "text/plain": [
       "False"
      ]
     },
     "execution_count": 109,
     "metadata": {},
     "output_type": "execute_result"
    }
   ],
   "source": [
    "s.isspace()"
   ]
  },
  {
   "cell_type": "code",
   "execution_count": 111,
   "id": "d5b69473",
   "metadata": {},
   "outputs": [
    {
     "data": {
      "text/plain": [
       "False"
      ]
     },
     "execution_count": 111,
     "metadata": {},
     "output_type": "execute_result"
    }
   ],
   "source": [
    "s.isupper()"
   ]
  },
  {
   "cell_type": "code",
   "execution_count": 112,
   "id": "9c333a5e",
   "metadata": {},
   "outputs": [
    {
     "data": {
      "text/plain": [
       "'    su    raj   '"
      ]
     },
     "execution_count": 112,
     "metadata": {},
     "output_type": "execute_result"
    }
   ],
   "source": [
    "s"
   ]
  },
  {
   "cell_type": "code",
   "execution_count": 113,
   "id": "8ef129f1",
   "metadata": {},
   "outputs": [],
   "source": [
    "s=\"Suraj\""
   ]
  },
  {
   "cell_type": "code",
   "execution_count": 114,
   "id": "edbd66d1",
   "metadata": {},
   "outputs": [
    {
     "data": {
      "text/plain": [
       "False"
      ]
     },
     "execution_count": 114,
     "metadata": {},
     "output_type": "execute_result"
    }
   ],
   "source": [
    "s.isupper()"
   ]
  },
  {
   "cell_type": "code",
   "execution_count": 115,
   "id": "d5395bd1",
   "metadata": {},
   "outputs": [],
   "source": [
    "s=s.upper()"
   ]
  },
  {
   "cell_type": "code",
   "execution_count": 116,
   "id": "f96860bd",
   "metadata": {},
   "outputs": [
    {
     "data": {
      "text/plain": [
       "True"
      ]
     },
     "execution_count": 116,
     "metadata": {},
     "output_type": "execute_result"
    }
   ],
   "source": [
    "s.isupper()"
   ]
  },
  {
   "cell_type": "code",
   "execution_count": 117,
   "id": "bc8986f9",
   "metadata": {},
   "outputs": [
    {
     "data": {
      "text/plain": [
       "'SURAJ'"
      ]
     },
     "execution_count": 117,
     "metadata": {},
     "output_type": "execute_result"
    }
   ],
   "source": [
    "s"
   ]
  },
  {
   "cell_type": "code",
   "execution_count": 118,
   "id": "4a4c7ea9",
   "metadata": {},
   "outputs": [
    {
     "data": {
      "text/plain": [
       "False"
      ]
     },
     "execution_count": 118,
     "metadata": {},
     "output_type": "execute_result"
    }
   ],
   "source": [
    "s.islower()"
   ]
  },
  {
   "cell_type": "code",
   "execution_count": 119,
   "id": "ee7252db",
   "metadata": {},
   "outputs": [],
   "source": [
    "s=s.lower()"
   ]
  },
  {
   "cell_type": "code",
   "execution_count": 120,
   "id": "8fd8d8ab",
   "metadata": {},
   "outputs": [
    {
     "data": {
      "text/plain": [
       "'suraj'"
      ]
     },
     "execution_count": 120,
     "metadata": {},
     "output_type": "execute_result"
    }
   ],
   "source": [
    "s"
   ]
  },
  {
   "cell_type": "code",
   "execution_count": 121,
   "id": "cd87cbd4",
   "metadata": {},
   "outputs": [
    {
     "data": {
      "text/plain": [
       "True"
      ]
     },
     "execution_count": 121,
     "metadata": {},
     "output_type": "execute_result"
    }
   ],
   "source": [
    "s.islower()"
   ]
  },
  {
   "cell_type": "code",
   "execution_count": 122,
   "id": "08535b7c",
   "metadata": {},
   "outputs": [
    {
     "ename": "AttributeError",
     "evalue": "'str' object has no attribute 'ischutiya'",
     "output_type": "error",
     "traceback": [
      "\u001b[1;31m---------------------------------------------------------------------------\u001b[0m",
      "\u001b[1;31mAttributeError\u001b[0m                            Traceback (most recent call last)",
      "\u001b[1;32m~\\AppData\\Local\\Temp/ipykernel_9044/3916420255.py\u001b[0m in \u001b[0;36m<module>\u001b[1;34m\u001b[0m\n\u001b[1;32m----> 1\u001b[1;33m \u001b[0ms\u001b[0m\u001b[1;33m.\u001b[0m\u001b[0mischutiya\u001b[0m\u001b[1;33m(\u001b[0m\u001b[1;33m)\u001b[0m\u001b[1;33m\u001b[0m\u001b[1;33m\u001b[0m\u001b[0m\n\u001b[0m",
      "\u001b[1;31mAttributeError\u001b[0m: 'str' object has no attribute 'ischutiya'"
     ]
    }
   ],
   "source": [
    "s.ischutiya()"
   ]
  },
  {
   "cell_type": "code",
   "execution_count": 123,
   "id": "dc904b53",
   "metadata": {},
   "outputs": [
    {
     "data": {
      "text/plain": [
       "False"
      ]
     },
     "execution_count": 123,
     "metadata": {},
     "output_type": "execute_result"
    }
   ],
   "source": [
    "s.isspace()"
   ]
  },
  {
   "cell_type": "code",
   "execution_count": 127,
   "id": "103ced26",
   "metadata": {},
   "outputs": [],
   "source": [
    "s6=\" \""
   ]
  },
  {
   "cell_type": "code",
   "execution_count": 129,
   "id": "9c04519f",
   "metadata": {},
   "outputs": [
    {
     "ename": "NameError",
     "evalue": "name 's6' is not defined",
     "output_type": "error",
     "traceback": [
      "\u001b[1;31m---------------------------------------------------------------------------\u001b[0m",
      "\u001b[1;31mNameError\u001b[0m                                 Traceback (most recent call last)",
      "\u001b[1;32m~\\AppData\\Local\\Temp/ipykernel_9044/4118797744.py\u001b[0m in \u001b[0;36m<module>\u001b[1;34m\u001b[0m\n\u001b[1;32m----> 1\u001b[1;33m \u001b[0ms6\u001b[0m\u001b[1;33m.\u001b[0m\u001b[0mispsace\u001b[0m\u001b[1;33m(\u001b[0m\u001b[1;33m)\u001b[0m\u001b[1;33m\u001b[0m\u001b[1;33m\u001b[0m\u001b[0m\n\u001b[0m",
      "\u001b[1;31mNameError\u001b[0m: name 's6' is not defined"
     ]
    }
   ],
   "source": [
    "s6.ispsace()"
   ]
  },
  {
   "cell_type": "code",
   "execution_count": 130,
   "id": "e1cafb77",
   "metadata": {},
   "outputs": [],
   "source": [
    "s8=\"  \""
   ]
  },
  {
   "cell_type": "code",
   "execution_count": 131,
   "id": "c261459b",
   "metadata": {},
   "outputs": [
    {
     "data": {
      "text/plain": [
       "True"
      ]
     },
     "execution_count": 131,
     "metadata": {},
     "output_type": "execute_result"
    }
   ],
   "source": [
    "s8.isspace()"
   ]
  },
  {
   "cell_type": "code",
   "execution_count": 132,
   "id": "8c0640b8",
   "metadata": {},
   "outputs": [
    {
     "data": {
      "text/plain": [
       "' '"
      ]
     },
     "execution_count": 132,
     "metadata": {},
     "output_type": "execute_result"
    }
   ],
   "source": [
    "s"
   ]
  },
  {
   "cell_type": "code",
   "execution_count": 133,
   "id": "5fc4d7f7",
   "metadata": {},
   "outputs": [],
   "source": [
    "s=\"Suraj\""
   ]
  },
  {
   "cell_type": "code",
   "execution_count": 134,
   "id": "980aa027",
   "metadata": {},
   "outputs": [
    {
     "data": {
      "text/plain": [
       "True"
      ]
     },
     "execution_count": 134,
     "metadata": {},
     "output_type": "execute_result"
    }
   ],
   "source": [
    "s.isalnum()"
   ]
  },
  {
   "cell_type": "code",
   "execution_count": 135,
   "id": "e46cdf2d",
   "metadata": {},
   "outputs": [
    {
     "data": {
      "text/plain": [
       "True"
      ]
     },
     "execution_count": 135,
     "metadata": {},
     "output_type": "execute_result"
    }
   ],
   "source": [
    "s.isalpha()"
   ]
  },
  {
   "cell_type": "code",
   "execution_count": 136,
   "id": "643a3bbb",
   "metadata": {},
   "outputs": [],
   "source": [
    "s7=\"4tjytdassda\""
   ]
  },
  {
   "cell_type": "code",
   "execution_count": 137,
   "id": "0d8d54ee",
   "metadata": {},
   "outputs": [
    {
     "data": {
      "text/plain": [
       "False"
      ]
     },
     "execution_count": 137,
     "metadata": {},
     "output_type": "execute_result"
    }
   ],
   "source": [
    "s7.isalpha()"
   ]
  },
  {
   "cell_type": "code",
   "execution_count": 138,
   "id": "4139c56b",
   "metadata": {},
   "outputs": [
    {
     "data": {
      "text/plain": [
       "True"
      ]
     },
     "execution_count": 138,
     "metadata": {},
     "output_type": "execute_result"
    }
   ],
   "source": [
    "s7.isalnum()"
   ]
  },
  {
   "cell_type": "code",
   "execution_count": 139,
   "id": "1885f97e",
   "metadata": {},
   "outputs": [
    {
     "data": {
      "text/plain": [
       "'Suraj'"
      ]
     },
     "execution_count": 139,
     "metadata": {},
     "output_type": "execute_result"
    }
   ],
   "source": [
    "s"
   ]
  },
  {
   "cell_type": "code",
   "execution_count": 141,
   "id": "159468bb",
   "metadata": {},
   "outputs": [
    {
     "data": {
      "text/plain": [
       "True"
      ]
     },
     "execution_count": 141,
     "metadata": {},
     "output_type": "execute_result"
    }
   ],
   "source": [
    "s.startswith('S')"
   ]
  },
  {
   "cell_type": "code",
   "execution_count": 142,
   "id": "9bfe424f",
   "metadata": {},
   "outputs": [
    {
     "data": {
      "text/plain": [
       "False"
      ]
     },
     "execution_count": 142,
     "metadata": {},
     "output_type": "execute_result"
    }
   ],
   "source": [
    "s.startswith('s')"
   ]
  },
  {
   "cell_type": "code",
   "execution_count": 143,
   "id": "6ef7f938",
   "metadata": {},
   "outputs": [
    {
     "data": {
      "text/plain": [
       "True"
      ]
     },
     "execution_count": 143,
     "metadata": {},
     "output_type": "execute_result"
    }
   ],
   "source": [
    "s.startswith('S')"
   ]
  },
  {
   "cell_type": "code",
   "execution_count": 144,
   "id": "d6b8d50f",
   "metadata": {},
   "outputs": [
    {
     "data": {
      "text/plain": [
       "True"
      ]
     },
     "execution_count": 144,
     "metadata": {},
     "output_type": "execute_result"
    }
   ],
   "source": [
    "s.endswith('j')"
   ]
  },
  {
   "cell_type": "code",
   "execution_count": 145,
   "id": "c8b7f451",
   "metadata": {},
   "outputs": [
    {
     "data": {
      "text/plain": [
       "False"
      ]
     },
     "execution_count": 145,
     "metadata": {},
     "output_type": "execute_result"
    }
   ],
   "source": [
    "s.endswith('n')"
   ]
  },
  {
   "cell_type": "code",
   "execution_count": 146,
   "id": "d0e46b0d",
   "metadata": {},
   "outputs": [
    {
     "data": {
      "text/plain": [
       "'Suraj'"
      ]
     },
     "execution_count": 146,
     "metadata": {},
     "output_type": "execute_result"
    }
   ],
   "source": [
    "s"
   ]
  },
  {
   "cell_type": "code",
   "execution_count": 147,
   "id": "9f6ec6de",
   "metadata": {},
   "outputs": [
    {
     "data": {
      "text/plain": [
       "True"
      ]
     },
     "execution_count": 147,
     "metadata": {},
     "output_type": "execute_result"
    }
   ],
   "source": [
    "s.startswith(\"\")"
   ]
  },
  {
   "cell_type": "code",
   "execution_count": 148,
   "id": "916c92c4",
   "metadata": {},
   "outputs": [
    {
     "data": {
      "text/plain": [
       "False"
      ]
     },
     "execution_count": 148,
     "metadata": {},
     "output_type": "execute_result"
    }
   ],
   "source": [
    "s.startswith(\" \")"
   ]
  },
  {
   "cell_type": "markdown",
   "id": "0290b8d8",
   "metadata": {},
   "source": [
    "True Because 's' dosent starts with blank space and it returns false when \" \" blank is provided as input."
   ]
  },
  {
   "cell_type": "raw",
   "id": "41b0f5fa",
   "metadata": {},
   "source": [
    "Reversing a string"
   ]
  },
  {
   "cell_type": "code",
   "execution_count": 149,
   "id": "798d8ef6",
   "metadata": {},
   "outputs": [],
   "source": [
    "s=\"Suraj\""
   ]
  },
  {
   "cell_type": "code",
   "execution_count": 150,
   "id": "8665af2f",
   "metadata": {},
   "outputs": [
    {
     "data": {
      "text/plain": [
       "'jaruS'"
      ]
     },
     "execution_count": 150,
     "metadata": {},
     "output_type": "execute_result"
    }
   ],
   "source": [
    "\"\".join(reversed(s))"
   ]
  },
  {
   "cell_type": "code",
   "execution_count": 151,
   "id": "73bd089c",
   "metadata": {},
   "outputs": [],
   "source": [
    "s=\"123\""
   ]
  },
  {
   "cell_type": "code",
   "execution_count": 152,
   "id": "92cf8f53",
   "metadata": {},
   "outputs": [
    {
     "data": {
      "text/plain": [
       "True"
      ]
     },
     "execution_count": 152,
     "metadata": {},
     "output_type": "execute_result"
    }
   ],
   "source": [
    "s.isnumeric()"
   ]
  },
  {
   "cell_type": "code",
   "execution_count": 153,
   "id": "778300e3",
   "metadata": {},
   "outputs": [
    {
     "data": {
      "text/plain": [
       "True"
      ]
     },
     "execution_count": 153,
     "metadata": {},
     "output_type": "execute_result"
    }
   ],
   "source": [
    "s.isdigit()"
   ]
  },
  {
   "cell_type": "code",
   "execution_count": 154,
   "id": "766402f2",
   "metadata": {},
   "outputs": [],
   "source": [
    "s=\"123.253\""
   ]
  },
  {
   "cell_type": "code",
   "execution_count": 155,
   "id": "7272bda6",
   "metadata": {},
   "outputs": [
    {
     "data": {
      "text/plain": [
       "False"
      ]
     },
     "execution_count": 155,
     "metadata": {},
     "output_type": "execute_result"
    }
   ],
   "source": [
    "s.isdigit()"
   ]
  },
  {
   "cell_type": "code",
   "execution_count": 156,
   "id": "515e5fdd",
   "metadata": {},
   "outputs": [
    {
     "data": {
      "text/plain": [
       "False"
      ]
     },
     "execution_count": 156,
     "metadata": {},
     "output_type": "execute_result"
    }
   ],
   "source": [
    "s.isnumeric()"
   ]
  },
  {
   "cell_type": "markdown",
   "id": "f00c8258",
   "metadata": {},
   "source": [
    "isdigit and isnumeric returns true only for integer values"
   ]
  },
  {
   "cell_type": "code",
   "execution_count": 160,
   "id": "d9ba4fbb",
   "metadata": {},
   "outputs": [],
   "source": [
    "s=\"hhe\\tgge\\thee\"\n",
    "s=s.expandtabs()"
   ]
  },
  {
   "cell_type": "code",
   "execution_count": 161,
   "id": "e978fea4",
   "metadata": {},
   "outputs": [
    {
     "data": {
      "text/plain": [
       "'hhe     gge     hee'"
      ]
     },
     "execution_count": 161,
     "metadata": {},
     "output_type": "execute_result"
    }
   ],
   "source": [
    "s"
   ]
  },
  {
   "cell_type": "code",
   "execution_count": null,
   "id": "4f90827e",
   "metadata": {},
   "outputs": [],
   "source": [
    "s=\"this is My First programming class and i am learNING python string and its function\"\n",
    "\n",
    "1.Try to extract data from index one to index 300 with a jump of 3.\n",
    "2.Try to reverse a string without using reverse function.\n",
    "3.Try to split  a string after conversion of entire string string in uppercase.\n",
    "4."
   ]
  }
 ],
 "metadata": {
  "kernelspec": {
   "display_name": "Python 3 (ipykernel)",
   "language": "python",
   "name": "python3"
  },
  "language_info": {
   "codemirror_mode": {
    "name": "ipython",
    "version": 3
   },
   "file_extension": ".py",
   "mimetype": "text/x-python",
   "name": "python",
   "nbconvert_exporter": "python",
   "pygments_lexer": "ipython3",
   "version": "3.9.7"
  }
 },
 "nbformat": 4,
 "nbformat_minor": 5
}
