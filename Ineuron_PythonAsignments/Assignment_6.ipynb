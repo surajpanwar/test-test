{
 "cells": [
  {
   "cell_type": "markdown",
   "metadata": {
    "id": "sjgHS7DlO3qc"
   },
   "source": [
    "# Assignment 6 Solutions"
   ]
  },
  {
   "cell_type": "markdown",
   "metadata": {
    "id": "1IJ3mRQ_O3qe"
   },
   "source": [
    "#### 1.What are Escape characters ? and how do you use them ?\n",
    "**Ans:** Escape characters represent characters in string values that would otherwise be difficult or impossible to type into code. we can use the backslash `character` to escape a single character or symbol  \n",
    "**example:** `\\t, \\n`\n"
   ]
  },
  {
   "cell_type": "code",
   "execution_count": 13,
   "metadata": {
    "colab": {
     "base_uri": "https://localhost:8080/",
     "height": 35
    },
    "id": "0THMWFLYRKru",
    "outputId": "0c4deebf-87f0-42d6-f824-ab3a3f4b3bec"
   },
   "outputs": [
    {
     "data": {
      "text/plain": [
       "'We are the so-called  \"iNeuronites\" from India.'"
      ]
     },
     "execution_count": 13,
     "metadata": {},
     "output_type": "execute_result"
    }
   ],
   "source": [
    "txt = \"We are the so-called  \\\"iNeuronites\\\" from India.\"\n",
    "txt"
   ]
  },
  {
   "cell_type": "markdown",
   "metadata": {
    "id": "T1vSPDK5O3qf"
   },
   "source": [
    "#### 2.What do the escape characters n and t stand for ?\n",
    "**Ans:** `\\n` is a newline, `\\t` is a tab"
   ]
  },
  {
   "cell_type": "code",
   "execution_count": 15,
   "metadata": {
    "colab": {
     "base_uri": "https://localhost:8080/"
    },
    "id": "3d_7lP3hR0QC",
    "outputId": "a6319ed4-f6bf-474c-c996-c95948386dff"
   },
   "outputs": [
    {
     "name": "stdout",
     "output_type": "stream",
     "text": [
      "Hello\n",
      "World!\n",
      "Hello\n",
      "World!\n"
     ]
    }
   ],
   "source": [
    "txt = \"Hello\\nWorld!\"\n",
    "print(txt)\n",
    "\n",
    "txt1 = \"Hello\\tWorld!\"\n",
    "print(txt)"
   ]
  },
  {
   "cell_type": "markdown",
   "metadata": {
    "id": "-GjVtG-eO3qh"
   },
   "source": [
    "#### 3.What is the way to include backslash character in a string?\n",
    "**Ans:** The `\\\\` escape character will represent the backslash character in a string"
   ]
  },
  {
   "cell_type": "code",
   "execution_count": 16,
   "metadata": {},
   "outputs": [
    {
     "name": "stdout",
     "output_type": "stream",
     "text": [
      "The backslash \\is here\n"
     ]
    }
   ],
   "source": [
    "print(\"The backslash \\\\is here\")"
   ]
  },
  {
   "cell_type": "markdown",
   "metadata": {
    "id": "86yHhtUVO3qi"
   },
   "source": [
    "#### 4.The string \"Howl's Moving Castle\" is a correct value. Why isn't the single quote character in the word Howl's not escaped a problem ?\n",
    "**Ans:** The string `\"Howl's Moving Castle\"` escaped the problem because it is wrapped inside double quotes. if its wrapped inside single quotes then we have to use escape character `\\'` to show single quote in the final output  \n",
    "`'Howl\\'s Moving Castle'` **`->`** `'Howl's Moving Castle'`"
   ]
  },
  {
   "cell_type": "code",
   "execution_count": 18,
   "metadata": {},
   "outputs": [
    {
     "name": "stdout",
     "output_type": "stream",
     "text": [
      "Howl's Moving Castle\n",
      "Howl's Moving Castle\n"
     ]
    }
   ],
   "source": [
    "print(\"Howl's Moving Castle\")\n",
    "print('Howl\\'s Moving Castle')"
   ]
  },
  {
   "cell_type": "markdown",
   "metadata": {
    "id": "uQBvPC-qO3qj"
   },
   "source": [
    "#### 5.How do you write a string of newlines if you don't want to use the n character?\n",
    "**Ans:**  Multiline string allow you to use newlines in string without the `\\n` escape character  "
   ]
  },
  {
   "cell_type": "code",
   "execution_count": 19,
   "metadata": {
    "colab": {
     "base_uri": "https://localhost:8080/"
    },
    "id": "MO5oGvAQO3qk",
    "outputId": "eeebf813-f82c-4545-e9bb-5fc897d776f5"
   },
   "outputs": [
    {
     "name": "stdout",
     "output_type": "stream",
     "text": [
      "iNeuron full stack\n",
      "Awesome Data Science Course\n"
     ]
    }
   ],
   "source": [
    "# Example:\n",
    "a = '''iNeuron full stack\n",
    "Awesome Data Science Course'''\n",
    "print(a)"
   ]
  },
  {
   "cell_type": "markdown",
   "metadata": {
    "id": "DqfkAO47O3ql"
   },
   "source": [
    "#### 6.What are the values of the given expressions ?\n",
    "'Hello, world!'[1]  \n",
    "'Hello, world!'[0:5]  \n",
    "'Hello, world!'[:5]  \n",
    "'Hello, world!'[3:]  "
   ]
  },
  {
   "cell_type": "markdown",
   "metadata": {
    "id": "E5iLwQK6O3qm"
   },
   "source": [
    "**Ans:** The values for the given expressions are:  \n",
    "'Hello, world!'[1] **`->`**  `'e'`  \n",
    "'Hello, world!'[0:5] **`->`**  `'Hello'`  \n",
    "'Hello, world!'[:5] **`->`**  `'Hello'`  \n",
    "'Hello, world!'[3:] **`->`**  `'lo, world!'`"
   ]
  },
  {
   "cell_type": "code",
   "execution_count": 22,
   "metadata": {},
   "outputs": [
    {
     "name": "stdout",
     "output_type": "stream",
     "text": [
      "e\n",
      "Hello\n",
      "Hello\n",
      "lo, world!\n"
     ]
    }
   ],
   "source": [
    "print('Hello, world!'[1])\n",
    "print('Hello, world!'[0:5])\n",
    "print('Hello, world!'[:5])\n",
    "print('Hello, world!'[3:])"
   ]
  },
  {
   "cell_type": "markdown",
   "metadata": {
    "id": "sz83gReXO3qn"
   },
   "source": [
    "#### 7.What are the values of the following expressions ?\n",
    "'Hello'.upper()  \n",
    "'Hello'.upper().isupper()  \n",
    "'Hello'.upper().lower()    \n",
    "\n",
    "**Ans:** The values for the given expressions are:  \n",
    "'Hello'.upper() **`->`** `'HELLO'`  \n",
    "'Hello'.upper().isupper() **`->`**  `True`    \n",
    "'Hello'.upper().lower() **`->`** `'hello'`  "
   ]
  },
  {
   "cell_type": "code",
   "execution_count": 23,
   "metadata": {},
   "outputs": [
    {
     "data": {
      "text/plain": [
       "'HELLO'"
      ]
     },
     "execution_count": 23,
     "metadata": {},
     "output_type": "execute_result"
    }
   ],
   "source": [
    "'Hello'.upper()"
   ]
  },
  {
   "cell_type": "code",
   "execution_count": 24,
   "metadata": {},
   "outputs": [
    {
     "data": {
      "text/plain": [
       "True"
      ]
     },
     "execution_count": 24,
     "metadata": {},
     "output_type": "execute_result"
    }
   ],
   "source": [
    "'Hello'.upper().isupper()"
   ]
  },
  {
   "cell_type": "code",
   "execution_count": 25,
   "metadata": {},
   "outputs": [
    {
     "data": {
      "text/plain": [
       "'hello'"
      ]
     },
     "execution_count": 25,
     "metadata": {},
     "output_type": "execute_result"
    }
   ],
   "source": [
    "'Hello'.upper().lower()"
   ]
  },
  {
   "cell_type": "markdown",
   "metadata": {
    "id": "7gOM-VZvO3qo"
   },
   "source": [
    "#### 8.What are the values of the following expressions ?\n",
    "'Remember, remember, the fifith of July.'.split()  \n",
    "-'.join('There can only one'.split())\n",
    "\n",
    "**Ans:** The values for the given expressions are:  \n",
    "'Remember, remember, the fifith of July.'.split()  **`->`** `['Remember,', 'remember,', 'the', 'fifith', 'of', 'July.']`  \n",
    "'-'.join('There can only one'.split()) **`->`** `'There-can-only-one'` "
   ]
  },
  {
   "cell_type": "code",
   "execution_count": 28,
   "metadata": {},
   "outputs": [
    {
     "data": {
      "text/plain": [
       "'There-can-only-one'"
      ]
     },
     "execution_count": 28,
     "metadata": {},
     "output_type": "execute_result"
    }
   ],
   "source": [
    "'Remember, remember, the fifith of July.'.split()\n",
    "'-'.join('There can only one'.split())"
   ]
  },
  {
   "cell_type": "code",
   "execution_count": 31,
   "metadata": {},
   "outputs": [
    {
     "name": "stdout",
     "output_type": "stream",
     "text": [
      "['Remember,', 'remember,', 'the', 'fifith', 'of', 'July.']\n",
      "Remember,-remember,-the-fifith-of-July.\n"
     ]
    },
    {
     "data": {
      "text/plain": [
       "'There-can-only-one'"
      ]
     },
     "execution_count": 31,
     "metadata": {},
     "output_type": "execute_result"
    }
   ],
   "source": [
    "a='Remember, remember, the fifith of July.'.split()\n",
    "print(a)\n",
    "print('-'.join(a))\n",
    "'-'.join('There can only one'.split())"
   ]
  },
  {
   "cell_type": "markdown",
   "metadata": {
    "id": "vwaJGzr5O3qo"
   },
   "source": [
    "#### 9.What are the methods for right-justifying, left-justifying and centering a string ?\n",
    "**Ans:** The `rjust()`,`ljust()`,`center()` string methods, respectively\n",
    "\n",
    "str.ljust(s, width[, fillchar])\n",
    "\n",
    "str.rjust(s, width[, fillchar])\n",
    "\n",
    "str.center(s, width[, fillchar])"
   ]
  },
  {
   "cell_type": "code",
   "execution_count": 53,
   "metadata": {},
   "outputs": [
    {
     "name": "stdout",
     "output_type": "stream",
     "text": [
      "The original string is : \n",
      " My name is Suraj \n",
      "\n",
      "The left aligned string is : \n",
      "My name is Suraj--------------\n",
      "\n",
      "\n",
      "\n",
      "The original string is : \n",
      " My name is Suraj \n",
      "\n",
      "The right aligned string is : \n",
      "------------------------My name is Suraj\n",
      "\n",
      "\n",
      "\n",
      "The original string is : \n",
      " My name is Suraj \n",
      "\n",
      "The center aligned string is : \n",
      "            My name is Suraj             \n",
      "\n",
      "Center aligned string with fillchr: \n",
      "############My name is Suraj############\n"
     ]
    }
   ],
   "source": [
    "orgstr = \"My name is Suraj\"\n",
    "  \n",
    "# Printing the original string\n",
    "print (\"The original string is : \\n\", lstr, \"\\n\")\n",
    "  \n",
    "# Printing the left aligned \n",
    "# string with \"-\" padding \n",
    "print (\"The left aligned string is : \")\n",
    "print (orgstr.ljust(30, '-'))\n",
    "\n",
    "print(\"\\n\\n\")\n",
    "\n",
    "  \n",
    "# Printing the original string\n",
    "print (\"The original string is : \\n\", orgstr, \"\\n\")\n",
    "  \n",
    "# Printing the right aligned string\n",
    "# with \"-\" padding \n",
    "print (\"The right aligned string is : \")\n",
    "print (orgstr.rjust(40, '-'))\n",
    "\n",
    "\n",
    "print(\"\\n\\n\")\n",
    "\n",
    "  \n",
    "# Printing the original string\n",
    "print (\"The original string is : \\n\", orgstr, \"\\n\")\n",
    "  \n",
    "# Printing the center aligned string \n",
    "print (\"The center aligned string is : \")\n",
    "print (orgstr.center(40), \"\\n\")\n",
    "  \n",
    "# Printing the center aligned \n",
    "# string with fillchr\n",
    "print (\"Center aligned string with fillchr: \")\n",
    "print (orgstr.center(40, '#'))"
   ]
  },
  {
   "cell_type": "markdown",
   "metadata": {
    "id": "A6w7plumO3qp"
   },
   "source": [
    "#### 10.What is the best way to remove whitespace characters from the start or end ?\n",
    "**Ans:** The `lstrip()` and `rstrip()` methods remove whitesapce characters from the left and right ends of a string respectively"
   ]
  },
  {
   "cell_type": "code",
   "execution_count": 54,
   "metadata": {
    "colab": {
     "base_uri": "https://localhost:8080/"
    },
    "id": "c7abeRqYS0_T",
    "outputId": "8e8be25e-2d9c-4ec2-840f-2eefa140c63e"
   },
   "outputs": [
    {
     "name": "stdout",
     "output_type": "stream",
     "text": [
      "Original String: ---iNeuron---\n",
      " String after stripping all '-' is : iNeuron\n",
      " String after stripping all leading '-' is : iNeuron---\n",
      " String after stripping all trailing '-' is : ---iNeuron\n"
     ]
    }
   ],
   "source": [
    "str = \"---iNeuron---\"\n",
    "print(\"Original String:\",str)\n",
    "# using strip() to delete all '-'\n",
    "print ( \" String after stripping all '-' is : \", end=\"\")\n",
    "print ( str.strip('-') )\n",
    " \n",
    "# using lstrip() to delete all trailing '-'\n",
    "print ( \" String after stripping all leading '-' is : \", end=\"\")\n",
    "print ( str.lstrip('-') )\n",
    " \n",
    "# using rstrip() to delete all leading '-'\n",
    "print ( \" String after stripping all trailing '-' is : \", end=\"\")\n",
    "print ( str.rstrip('-') )"
   ]
  },
  {
   "cell_type": "code",
   "execution_count": null,
   "metadata": {
    "id": "ij-YS1MvS4x4"
   },
   "outputs": [],
   "source": []
  }
 ],
 "metadata": {
  "colab": {
   "collapsed_sections": [],
   "name": "06.Assignment_06.ipynb",
   "provenance": []
  },
  "kernelspec": {
   "display_name": "Python 3 (ipykernel)",
   "language": "python",
   "name": "python3"
  },
  "language_info": {
   "codemirror_mode": {
    "name": "ipython",
    "version": 3
   },
   "file_extension": ".py",
   "mimetype": "text/x-python",
   "name": "python",
   "nbconvert_exporter": "python",
   "pygments_lexer": "ipython3",
   "version": "3.9.12"
  }
 },
 "nbformat": 4,
 "nbformat_minor": 1
}
